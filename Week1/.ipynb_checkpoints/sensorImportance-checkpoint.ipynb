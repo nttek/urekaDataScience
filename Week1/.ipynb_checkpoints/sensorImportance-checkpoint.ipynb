{
 "cells": [
  {
   "cell_type": "markdown",
   "metadata": {},
   "source": [
    "Importing all the necessary libraries"
   ]
  },
  {
   "cell_type": "code",
   "execution_count": 1,
   "metadata": {},
   "outputs": [],
   "source": [
    "import pandas as pd\n",
    "import numpy as np\n",
    "from sklearn.linear_model import LogisticRegression\n",
    "from sklearn.model_selection import train_test_split\n",
    "from sklearn.metrics import accuracy_score\n",
    "from sklearn.metrics import f1_score\n",
    "from sklearn.metrics import confusion_matrix\n",
    "from sklearn.metrics import classification_report"
   ]
  },
  {
   "cell_type": "markdown",
   "metadata": {},
   "source": [
    "Read from the file containing sensor data"
   ]
  },
  {
   "cell_type": "code",
   "execution_count": 2,
   "metadata": {},
   "outputs": [
    {
     "data": {
      "text/html": [
       "<div>\n",
       "<style scoped>\n",
       "    .dataframe tbody tr th:only-of-type {\n",
       "        vertical-align: middle;\n",
       "    }\n",
       "\n",
       "    .dataframe tbody tr th {\n",
       "        vertical-align: top;\n",
       "    }\n",
       "\n",
       "    .dataframe thead th {\n",
       "        text-align: right;\n",
       "    }\n",
       "</style>\n",
       "<table border=\"1\" class=\"dataframe\">\n",
       "  <thead>\n",
       "    <tr style=\"text-align: right;\">\n",
       "      <th></th>\n",
       "      <th>sample index</th>\n",
       "      <th>class_label</th>\n",
       "      <th>sensor0</th>\n",
       "      <th>sensor1</th>\n",
       "      <th>sensor2</th>\n",
       "      <th>sensor3</th>\n",
       "      <th>sensor4</th>\n",
       "      <th>sensor5</th>\n",
       "      <th>sensor6</th>\n",
       "      <th>sensor7</th>\n",
       "      <th>sensor8</th>\n",
       "      <th>sensor9</th>\n",
       "    </tr>\n",
       "  </thead>\n",
       "  <tbody>\n",
       "    <tr>\n",
       "      <th>0</th>\n",
       "      <td>sample0</td>\n",
       "      <td>1.0</td>\n",
       "      <td>0.834251</td>\n",
       "      <td>0.726081</td>\n",
       "      <td>0.535904</td>\n",
       "      <td>0.214896</td>\n",
       "      <td>0.873788</td>\n",
       "      <td>0.767605</td>\n",
       "      <td>0.111308</td>\n",
       "      <td>0.557526</td>\n",
       "      <td>0.599650</td>\n",
       "      <td>0.665569</td>\n",
       "    </tr>\n",
       "    <tr>\n",
       "      <th>1</th>\n",
       "      <td>sample1</td>\n",
       "      <td>1.0</td>\n",
       "      <td>0.804059</td>\n",
       "      <td>0.253135</td>\n",
       "      <td>0.869867</td>\n",
       "      <td>0.334285</td>\n",
       "      <td>0.604075</td>\n",
       "      <td>0.494045</td>\n",
       "      <td>0.833575</td>\n",
       "      <td>0.194190</td>\n",
       "      <td>0.014966</td>\n",
       "      <td>0.802918</td>\n",
       "    </tr>\n",
       "    <tr>\n",
       "      <th>2</th>\n",
       "      <td>sample2</td>\n",
       "      <td>1.0</td>\n",
       "      <td>0.694404</td>\n",
       "      <td>0.595777</td>\n",
       "      <td>0.581294</td>\n",
       "      <td>0.799003</td>\n",
       "      <td>0.762857</td>\n",
       "      <td>0.651393</td>\n",
       "      <td>0.075905</td>\n",
       "      <td>0.007186</td>\n",
       "      <td>0.659633</td>\n",
       "      <td>0.831009</td>\n",
       "    </tr>\n",
       "    <tr>\n",
       "      <th>3</th>\n",
       "      <td>sample3</td>\n",
       "      <td>1.0</td>\n",
       "      <td>0.783690</td>\n",
       "      <td>0.038780</td>\n",
       "      <td>0.285043</td>\n",
       "      <td>0.627305</td>\n",
       "      <td>0.800620</td>\n",
       "      <td>0.486340</td>\n",
       "      <td>0.827723</td>\n",
       "      <td>0.339807</td>\n",
       "      <td>0.731343</td>\n",
       "      <td>0.892359</td>\n",
       "    </tr>\n",
       "    <tr>\n",
       "      <th>4</th>\n",
       "      <td>sample4</td>\n",
       "      <td>1.0</td>\n",
       "      <td>0.788835</td>\n",
       "      <td>0.174433</td>\n",
       "      <td>0.348770</td>\n",
       "      <td>0.938244</td>\n",
       "      <td>0.692065</td>\n",
       "      <td>0.377620</td>\n",
       "      <td>0.183760</td>\n",
       "      <td>0.616805</td>\n",
       "      <td>0.492899</td>\n",
       "      <td>0.930969</td>\n",
       "    </tr>\n",
       "  </tbody>\n",
       "</table>\n",
       "</div>"
      ],
      "text/plain": [
       "  sample index  class_label   sensor0   sensor1   sensor2   sensor3   sensor4  \\\n",
       "0      sample0          1.0  0.834251  0.726081  0.535904  0.214896  0.873788   \n",
       "1      sample1          1.0  0.804059  0.253135  0.869867  0.334285  0.604075   \n",
       "2      sample2          1.0  0.694404  0.595777  0.581294  0.799003  0.762857   \n",
       "3      sample3          1.0  0.783690  0.038780  0.285043  0.627305  0.800620   \n",
       "4      sample4          1.0  0.788835  0.174433  0.348770  0.938244  0.692065   \n",
       "\n",
       "    sensor5   sensor6   sensor7   sensor8   sensor9  \n",
       "0  0.767605  0.111308  0.557526  0.599650  0.665569  \n",
       "1  0.494045  0.833575  0.194190  0.014966  0.802918  \n",
       "2  0.651393  0.075905  0.007186  0.659633  0.831009  \n",
       "3  0.486340  0.827723  0.339807  0.731343  0.892359  \n",
       "4  0.377620  0.183760  0.616805  0.492899  0.930969  "
      ]
     },
     "execution_count": 2,
     "metadata": {},
     "output_type": "execute_result"
    }
   ],
   "source": [
    "sensorData = pd.read_csv('Data/task_data.csv')\n",
    "sensorData.head(5)"
   ]
  },
  {
   "cell_type": "markdown",
   "metadata": {},
   "source": [
    "Check for any potentially missing data"
   ]
  },
  {
   "cell_type": "code",
   "execution_count": 3,
   "metadata": {},
   "outputs": [
    {
     "name": "stdout",
     "output_type": "stream",
     "text": [
      "<class 'pandas.core.frame.DataFrame'>\n",
      "RangeIndex: 400 entries, 0 to 399\n",
      "Data columns (total 12 columns):\n",
      " #   Column        Non-Null Count  Dtype  \n",
      "---  ------        --------------  -----  \n",
      " 0   sample index  400 non-null    object \n",
      " 1   class_label   400 non-null    float64\n",
      " 2   sensor0       400 non-null    float64\n",
      " 3   sensor1       400 non-null    float64\n",
      " 4   sensor2       400 non-null    float64\n",
      " 5   sensor3       400 non-null    float64\n",
      " 6   sensor4       400 non-null    float64\n",
      " 7   sensor5       400 non-null    float64\n",
      " 8   sensor6       400 non-null    float64\n",
      " 9   sensor7       400 non-null    float64\n",
      " 10  sensor8       400 non-null    float64\n",
      " 11  sensor9       400 non-null    float64\n",
      "dtypes: float64(11), object(1)\n",
      "memory usage: 37.6+ KB\n"
     ]
    },
    {
     "data": {
      "text/plain": [
       "(400, 12)"
      ]
     },
     "execution_count": 3,
     "metadata": {},
     "output_type": "execute_result"
    }
   ],
   "source": [
    "sensorData.info()\n",
    "sensorData.shape"
   ]
  },
  {
   "cell_type": "markdown",
   "metadata": {},
   "source": [
    "Checking the importance of each sensor data using training & testing models"
   ]
  },
  {
   "cell_type": "code",
   "execution_count": 10,
   "metadata": {},
   "outputs": [
    {
     "name": "stdout",
     "output_type": "stream",
     "text": [
      "Sensor0\n",
      "Accuracy score = 0.8333333333333334\n",
      "F1 score = 0.8333333333333334\n",
      "Sensor1\n",
      "Accuracy score = 0.4583333333333333\n",
      "F1 score = 0.4592753623188406\n",
      "Sensor2\n",
      "Accuracy score = 0.3333333333333333\n",
      "F1 score = 0.324009324009324\n",
      "Sensor3\n",
      "Accuracy score = 0.7666666666666667\n",
      "F1 score = 0.7670559881349649\n",
      "Sensor4\n",
      "Accuracy score = 0.8083333333333333\n",
      "F1 score = 0.8086138015933849\n",
      "Sensor5\n",
      "Accuracy score = 0.5416666666666666\n",
      "F1 score = 0.5404245709123757\n",
      "Sensor6\n",
      "Accuracy score = 0.4583333333333333\n",
      "F1 score = 0.6285714285714286\n",
      "Sensor7\n",
      "Accuracy score = 0.425\n",
      "F1 score = 0.42535939995833044\n",
      "Sensor8\n",
      "Accuracy score = 0.8916666666666667\n",
      "F1 score = 0.8915832107757313\n",
      "Sensor9\n",
      "Accuracy score = 0.5333333333333333\n",
      "F1 score = 0.5315164998146088\n"
     ]
    }
   ],
   "source": [
    "#Define the output y\n",
    "y = sensorData.loc[:,['class_label']]\n",
    "\n",
    "#Creating a list to save the sensor accuracy\n",
    "my_list = []\n",
    "\n",
    "#Looping and testing around each column of sensor data (This can be better written as a function)\n",
    "\n",
    "i=0\n",
    "\n",
    "while (i<len(sensorData.columns)-2):      \n",
    "\n",
    "    #Define the input X\n",
    "    sensorloc = 'sensor'+str(i)\n",
    "    X = sensorData.loc[:,[sensorloc]]\n",
    "\n",
    "    #Split the input and output data to test and training sets\n",
    "    X_train, X_test, y_train, y_test = train_test_split(\n",
    "                                                        X,\n",
    "                                                        y,\n",
    "                                                        test_size=0.3,\n",
    "                                                        random_state=21)\n",
    "\n",
    "    #Train the model\n",
    "    logreg = LogisticRegression()\n",
    "    logreg.fit(X_train, y_train.values.ravel())\n",
    "\n",
    "    #Test the model\n",
    "    y_pred = logreg.predict(X_test)\n",
    "\n",
    "    #Model performance metrics \n",
    "    accuracyScore = accuracy_score(y_test, y_pred)\n",
    "    f1score = f1_score(y_test, y_pred, average='weighted', labels=np.unique(y_pred))   \n",
    "    #print(confusion_matrix(y_test, y_pred))\n",
    "    #print(classification_report(y_test, y_pred))\n",
    "    print('Sensor'+str(i))\n",
    "    print(\"Accuracy score = \" + str(accuracyScore))\n",
    "    print(\"F1 score = \" + str(f1score))\n",
    "    \n",
    "    #Taking only the accuracyScore metric identify importance\n",
    "    my_list.append([sensorloc,accuracyScore])\n",
    "\n",
    "    i=i+1\n"
   ]
  },
  {
   "cell_type": "markdown",
   "metadata": {},
   "source": [
    "Saving the obtained information in csv file"
   ]
  },
  {
   "cell_type": "code",
   "execution_count": 5,
   "metadata": {},
   "outputs": [],
   "source": [
    "#Convert the list containing sensor acuuracy data to DataFrame obj\n",
    "df = pd.DataFrame(my_list)\n",
    "df.columns = ['Name','Accuracy']\n",
    "df = df.set_index('Name') \n",
    "\n",
    "#Sort the importance of the sensor in descending order and save in csv data file\n",
    "df_sorted = df.sort_values('Accuracy', ascending=False)\n",
    "df_sorted.to_csv('Data/sorted_data.csv')"
   ]
  }
 ],
 "metadata": {
  "kernelspec": {
   "display_name": "Python 3",
   "language": "python",
   "name": "python3"
  },
  "language_info": {
   "codemirror_mode": {
    "name": "ipython",
    "version": 3
   },
   "file_extension": ".py",
   "mimetype": "text/x-python",
   "name": "python",
   "nbconvert_exporter": "python",
   "pygments_lexer": "ipython3",
   "version": "3.7.7"
  }
 },
 "nbformat": 4,
 "nbformat_minor": 4
}
