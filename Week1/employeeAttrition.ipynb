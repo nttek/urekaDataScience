{
 "cells": [
  {
   "cell_type": "markdown",
   "metadata": {},
   "source": [
    "# Import all the necessary libraries"
   ]
  },
  {
   "cell_type": "code",
   "execution_count": null,
   "metadata": {},
   "outputs": [],
   "source": [
    "import pandas as pd\n",
    "import numpy as np\n",
    "import matplotlib.pyplot as plt\n",
    "import seaborn as sns\n",
    "from sklearn.preprocessing import StandardScaler\n",
    "from sklearn.model_selection import train_test_split\n",
    "from sklearn.linear_model import LogisticRegression\n",
    "from sklearn.metrics import accuracy_score\n",
    "from sklearn.metrics import f1_score"
   ]
  },
  {
   "cell_type": "markdown",
   "metadata": {},
   "source": [
    "# Load data from the csv file and validate"
   ]
  },
  {
   "cell_type": "code",
   "execution_count": null,
   "metadata": {},
   "outputs": [],
   "source": [
    "employeeData = pd.read_csv('Data/EmployeeAttrition.csv')\n",
    "employeeData.info()\n",
    "sns.heatmap(employeeData.isnull(), cbar=False)\n",
    "employeeData.shape\n",
    "#employeeData.head()"
   ]
  },
  {
   "cell_type": "markdown",
   "metadata": {},
   "source": [
    "# Exploring the data through visualization"
   ]
  },
  {
   "cell_type": "code",
   "execution_count": null,
   "metadata": {
    "scrolled": true
   },
   "outputs": [],
   "source": [
    "#Check the age group structure\n",
    "employeeData['Age'].plot.hist()"
   ]
  },
  {
   "cell_type": "code",
   "execution_count": null,
   "metadata": {},
   "outputs": [],
   "source": [
    "#Check the monthly income structure\n",
    "employeeData['MonthlyIncome'].plot.hist()"
   ]
  },
  {
   "cell_type": "code",
   "execution_count": null,
   "metadata": {},
   "outputs": [],
   "source": [
    "#Check the proportion of attrition rate\n",
    "sns.countplot(x='Attrition', data=employeeData)"
   ]
  },
  {
   "cell_type": "code",
   "execution_count": null,
   "metadata": {},
   "outputs": [],
   "source": [
    "#Compare the attrition rate by gender group\n",
    "sns.countplot(x='Attrition', hue='Gender', data=employeeData)"
   ]
  },
  {
   "cell_type": "code",
   "execution_count": null,
   "metadata": {},
   "outputs": [],
   "source": [
    "#Compare the attrition rate proportion by marital status\n",
    "sns.countplot(x='Attrition', hue='MaritalStatus', data=employeeData)"
   ]
  },
  {
   "cell_type": "code",
   "execution_count": null,
   "metadata": {},
   "outputs": [],
   "source": [
    "#Check attrition rate by marital status\n",
    "sns.countplot(x='Attrition', hue='EnvironmentSatisfaction', data=employeeData)   "
   ]
  },
  {
   "cell_type": "code",
   "execution_count": null,
   "metadata": {
    "scrolled": true
   },
   "outputs": [],
   "source": [
    "#Check attrition rate by Education Level\n",
    "sns.countplot(x='Attrition', hue='Education', data=employeeData)"
   ]
  },
  {
   "cell_type": "markdown",
   "metadata": {},
   "source": [
    "# Getting the data ready for testing"
   ]
  },
  {
   "cell_type": "code",
   "execution_count": null,
   "metadata": {},
   "outputs": [],
   "source": [
    "#Assigning numerical values to non-numerical (string) data \n",
    "Gender = pd.get_dummies(employeeData['Gender'],drop_first=True)\n",
    "BusinessTravel = pd.get_dummies(employeeData['BusinessTravel'],drop_first=True)\n",
    "Department = pd.get_dummies(employeeData['Department'],drop_first=True)\n",
    "MaritalStatus = pd.get_dummies(employeeData['MaritalStatus'],drop_first=True)\n",
    "Over18 = pd.get_dummies(employeeData['Over18'],drop_first=True)\n",
    "OverTime = pd.get_dummies(employeeData['OverTime'],drop_first=True)\n",
    "EducationField = pd.get_dummies(employeeData['EducationField'],drop_first=True)\n",
    "JobRole = pd.get_dummies(employeeData['JobRole'],drop_first=True)\n",
    "\n",
    "Attrition = pd.get_dummies(employeeData['Attrition'],drop_first=True)\n",
    "\n",
    "#Combining the numerized and original data into a new file and checking the structutre\n",
    "employeeDataMod = pd.concat([employeeData,Gender,BusinessTravel,Department,\n",
    "                           MaritalStatus,Over18,OverTime,EducationField,JobRole],axis=1)\n",
    "employeeDataMod.head()\n",
    "\n",
    "#Dropping the unncessary or duplicate information and checking the dataframe structutre\n",
    "employeeDataMod.drop(['Gender','BusinessTravel','Department','EmployeeNumber','EmployeeCount','JobRole','MaritalStatus',\n",
    "                      'EducationField','Over18','OverTime'],axis=1,inplace=True)\n",
    "#Check \n",
    "employeeDataMod.info()\n",
    "employeeDataMod.head()"
   ]
  },
  {
   "cell_type": "markdown",
   "metadata": {},
   "source": [
    "# Testing the model"
   ]
  },
  {
   "cell_type": "code",
   "execution_count": null,
   "metadata": {
    "scrolled": true
   },
   "outputs": [],
   "source": [
    "#Take the independent and dependent variables info from the polished data\n",
    "X=employeeDataMod.drop(['Attrition'],axis=1)\n",
    "y= Attrition\n",
    "\n",
    "#An additional step of normalizing the data to avoid ConvergenceWarning\n",
    "scaler = StandardScaler()\n",
    "scaler.fit(X)\n",
    "X = scaler.transform(X)\n",
    "\n",
    "#Split the input and output data to testing and training sets\n",
    "X_train, X_test, y_train, y_test = train_test_split(X, y, test_size=0.3,random_state=1)\n",
    "\n",
    "#Train the model\n",
    "logreg = LogisticRegression()\n",
    "logreg.fit(X_train, y_train.values.ravel())\n",
    "\n",
    "#Test the model\n",
    "y_pred = logreg.predict(X_test)\n",
    "\n",
    "#To verify the test results, two metrics are chosen\n",
    "print(\"Accuracy score = \" + str(accuracy_score(y_test, y_pred)))\n",
    "print(\"F1 score = \" + str(f1_score(y_test, y_pred, average='weighted', labels=np.unique(y_pred))))"
   ]
  },
  {
   "cell_type": "markdown",
   "metadata": {},
   "source": [
    "# Remarks"
   ]
  },
  {
   "cell_type": "markdown",
   "metadata": {},
   "source": [
    "Other metrics can also be used since no threshold is defined in a specific metric. The accuracy and f1 scores are remarkablly good. It should be noted that I have played with the parameters beforehand to improve accuracy. "
   ]
  },
  {
   "cell_type": "markdown",
   "metadata": {},
   "source": [
    "                                                   ***The end***"
   ]
  }
 ],
 "metadata": {
  "kernelspec": {
   "display_name": "Python 3",
   "language": "python",
   "name": "python3"
  },
  "language_info": {
   "codemirror_mode": {
    "name": "ipython",
    "version": 3
   },
   "file_extension": ".py",
   "mimetype": "text/x-python",
   "name": "python",
   "nbconvert_exporter": "python",
   "pygments_lexer": "ipython3",
   "version": "3.7.7"
  }
 },
 "nbformat": 4,
 "nbformat_minor": 4
}
